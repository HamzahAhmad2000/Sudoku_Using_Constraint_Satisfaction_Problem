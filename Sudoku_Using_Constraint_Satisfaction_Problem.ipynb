{
  "cells": [
    {
      "cell_type": "code",
      "execution_count": null,
      "id": "816cfb13",
      "metadata": {
        "id": "816cfb13"
      },
      "outputs": [],
      "source": [
        "import numpy as np\n",
        "import random"
      ]
    },
    {
      "cell_type": "code",
      "execution_count": null,
      "id": "55ff0966",
      "metadata": {
        "id": "55ff0966"
      },
      "outputs": [],
      "source": [
        "def column_collisions(grid):\n",
        "    for j in range(9):\n",
        "        colVals=[]\n",
        "        for i in range(9):\n",
        "            if grid[i][j]!=0:\n",
        "                    if grid[i][j] in colVals:\n",
        "                        if check_subgrid(i,j):\n",
        "                            grid[i][j]=0\n",
        "                    else:\n",
        "\n",
        "                            colVals.append(grid[i][j])\n"
      ]
    },
    {
      "cell_type": "code",
      "execution_count": null,
      "id": "66337504",
      "metadata": {
        "id": "66337504"
      },
      "outputs": [],
      "source": [
        "def grid_collisions(grid):\n",
        "    for i in range(3):\n",
        "        for j in range(3):\n",
        "            gridVals=[]\n",
        "            for k in range(3):\n",
        "                for l in range(3):\n",
        "                    if grid[(i*3)+k][(j*3)+l]!=0:\n",
        "                            if grid[(i*3)+k][(j*3)+l] in gridVals:\n",
        "                                if check_subgrid(i,j):\n",
        "                                    grid[(i*3)+k][(j*3)+l]=0\n",
        "                            else:\n",
        "\n",
        "                                    gridVals.append(grid[(i*3)+k][(j*3)+l])\n"
      ]
    },
    {
      "cell_type": "code",
      "execution_count": null,
      "id": "a65ea83b",
      "metadata": {
        "id": "a65ea83b"
      },
      "outputs": [],
      "source": [
        "def row_collisions(grid):\n",
        "    rowVals=[]\n",
        "    for i in range(9):\n",
        "        rowVals=[]\n",
        "        for j in range(9):\n",
        "            if grid[i][j]!=0:\n",
        "                    if grid[i][j] in rowVals:\n",
        "                        if check_subgrid(i,j):\n",
        "                            grid[i][j]=0\n",
        "                    else:\n",
        "\n",
        "                            rowVals.append(grid[i][j])\n"
      ]
    },
    {
      "cell_type": "code",
      "execution_count": null,
      "id": "afd9fb42",
      "metadata": {
        "id": "afd9fb42"
      },
      "outputs": [],
      "source": [
        "def values_adder(grid):\n",
        "    for i in range (9):\n",
        "        for j in range(9):\n",
        "                if grid[i][j]==0:\n",
        "                    grid[i][j]=random.randint(1,9)\n",
        "\n",
        "    row_collisions(grid)\n",
        "    column_collisions(grid)\n",
        "    grid_collisions(grid)\n",
        "    return grid"
      ]
    },
    {
      "cell_type": "code",
      "execution_count": null,
      "id": "5877e072",
      "metadata": {
        "id": "5877e072"
      },
      "outputs": [],
      "source": [
        "def check_duplicates(grid):\n",
        "    print(grid)\n",
        "    row_dup=[]\n",
        "    col_dup=[]\n",
        "    for i in range(9):\n",
        "\n",
        "        row_val=[]\n",
        "        for j in range(9):\n",
        "\n",
        "            if grid[i][j]==0:\n",
        "                row_val.append(grid[i][j])\n",
        "            else:\n",
        "                if grid[i][j] in row_val:\n",
        "                    row_val.append(grid[i][j])\n",
        "                    row_dup.append([i,row_val.index(grid[i][j])])\n",
        "                    row_dup.append([i,j])\n",
        "\n",
        "                else:\n",
        "                    row_val.append(grid[i][j])\n",
        "    for j in range(9):\n",
        "        col_val=[]\n",
        "        for i in range(9):\n",
        "            if grid[i][j]==0:\n",
        "                col_val.append(grid[i][j])\n",
        "            else:\n",
        "                if grid[i][j] in col_val:\n",
        "                    col_val.append(grid[i][j])\n",
        "                    col_dup.append([i,col_val.index(grid[i][j])])\n",
        "                    col_dup.append([i,j])\n",
        "                else:\n",
        "                    col_val.append(grid[i][j])\n",
        "\n",
        "    return row_dup,col_dup"
      ]
    },
    {
      "cell_type": "code",
      "execution_count": null,
      "id": "83633c89",
      "metadata": {
        "id": "83633c89"
      },
      "outputs": [],
      "source": [
        "def check_subgrid(row,col):\n",
        "    diagonal=[0,4,8]\n",
        "    subgrid=((row//3)*3)+(col//3)\n",
        "    if subgrid in diagonal:\n",
        "        return False\n",
        "    else :\n",
        "        return True"
      ]
    },
    {
      "cell_type": "code",
      "execution_count": null,
      "id": "000b8e4e",
      "metadata": {
        "id": "000b8e4e"
      },
      "outputs": [],
      "source": [
        "def generate_grid():\n",
        "\n",
        "    board = np.zeros((9, 9), dtype=int)\n",
        "\n",
        "    # Fill in the diagonal blocks with random permutations of 1-9\n",
        "    for i in range(0, 9, 3):\n",
        "        block = np.arange(1, 10)\n",
        "        np.random.shuffle(block)\n",
        "        board[i:i+3, i:i+3] = block.reshape(3, 3)\n",
        "\n",
        "#     for i in range(3):\n",
        "#          board=values_adder(board)\n",
        "\n",
        "#     row_dup,col_dup=check_duplicates(board)\n",
        "\n",
        "#     duplicates=row_dup\n",
        "#     duplicates+col_dup\n",
        "\n",
        "#     print(duplicates)\n",
        "#     board=final_board(board,duplicates)\n",
        "\n",
        "    return board"
      ]
    },
    {
      "cell_type": "code",
      "execution_count": null,
      "id": "806a0a61",
      "metadata": {
        "id": "806a0a61"
      },
      "outputs": [],
      "source": [
        "def final_board(board,duplicates):\n",
        "    for row,col in duplicates:\n",
        "        print(row,col)\n",
        "        if check_subgrid(row,col):\n",
        "            board[row][col]=0\n",
        "    return board\n",
        "\n"
      ]
    },
    {
      "cell_type": "code",
      "execution_count": null,
      "id": "891c51dc",
      "metadata": {
        "id": "891c51dc",
        "outputId": "47895e49-2b1b-471b-afb7-efeff0d80012"
      },
      "outputs": [
        {
          "data": {
            "text/plain": [
              "array([[2, 4, 5, 0, 0, 0, 0, 0, 0],\n",
              "       [9, 6, 1, 0, 0, 0, 0, 0, 0],\n",
              "       [7, 8, 3, 0, 0, 0, 0, 0, 0],\n",
              "       [0, 0, 0, 6, 1, 5, 0, 0, 0],\n",
              "       [0, 0, 0, 4, 9, 8, 0, 0, 0],\n",
              "       [0, 0, 0, 2, 7, 3, 0, 0, 0],\n",
              "       [0, 0, 0, 0, 0, 0, 4, 6, 7],\n",
              "       [0, 0, 0, 0, 0, 0, 2, 8, 9],\n",
              "       [0, 0, 0, 0, 0, 0, 3, 1, 5]])"
            ]
          },
          "execution_count": 398,
          "metadata": {},
          "output_type": "execute_result"
        }
      ],
      "source": [
        "grid=generate_grid()\n",
        "grid"
      ]
    },
    {
      "cell_type": "code",
      "execution_count": null,
      "id": "a4116f3c",
      "metadata": {
        "id": "a4116f3c"
      },
      "outputs": [],
      "source": [
        "def csp_Solver(grid):\n",
        "\n",
        "    assignment={'1':[],\n",
        "               '2':[],\n",
        "               '3':[],\n",
        "               '4':[],\n",
        "               '5':[],\n",
        "               '6':[],\n",
        "               '7':[],\n",
        "               '8':[],\n",
        "               '9':[],\n",
        "               }\n",
        "    for i in range(9):\n",
        "        for j in range(9):\n",
        "            if empty_Slot(grid,i,j):\n",
        "                row_dom= row_constraints(grid,i)\n",
        "                col_dom=column_constraints(grid,j)\n",
        "                grid_dom=grid_constraints(grid,i,j)\n",
        "                domain=check_possible_Values(row_dom,col_dom,grid_dom)\n",
        "                for k in domain:\n",
        "                    assignment[str(k)].append([i,j])\n",
        "\n",
        "    grid=assign_Values(assignment,grid)\n",
        "    print(grid)"
      ]
    },
    {
      "cell_type": "code",
      "execution_count": null,
      "id": "4305c742",
      "metadata": {
        "id": "4305c742"
      },
      "outputs": [],
      "source": []
    },
    {
      "cell_type": "code",
      "execution_count": null,
      "id": "63105969",
      "metadata": {
        "id": "63105969"
      },
      "outputs": [],
      "source": [
        "def assign_Values(assignment,grid):\n",
        "\n",
        "    for i in assignment:\n",
        "        new_domain=[]\n",
        "        print (assignment)\n",
        "        for coordinates in assignment[i]:\n",
        "\n",
        "            grid[coordinates[0]][coordinates[1]]=int(i)\n",
        "            assignment[i].remove\n",
        "    return grid\n",
        "\n",
        "\n",
        "    for key in data:\n",
        "    new_data = []\n",
        "    for row in data[key]:\n",
        "        if row[0] != 0:\n",
        "            new_data.append(row)\n",
        "    data[key] = [row for row in zip(*new_data) if row[0] != 4]"
      ]
    },
    {
      "cell_type": "code",
      "execution_count": null,
      "id": "4c0f301a",
      "metadata": {
        "id": "4c0f301a",
        "outputId": "c2816fe0-f368-4d04-98bd-50524a858a0c"
      },
      "outputs": [
        {
          "name": "stdout",
          "output_type": "stream",
          "text": [
            "{'1': [[0, 3], [0, 5], [0, 6], [0, 8], [2, 3], [2, 5], [2, 6], [2, 8], [4, 0], [4, 1], [4, 6], [4, 8], [5, 0], [5, 1], [5, 6], [5, 8], [6, 0], [6, 1], [6, 3], [6, 5], [7, 0], [7, 1], [7, 3], [7, 5]], '2': [[1, 4], [1, 5], [1, 7], [1, 8], [2, 4], [2, 5], [2, 7], [2, 8], [3, 1], [3, 2], [3, 7], [3, 8], [4, 1], [4, 2], [4, 7], [4, 8], [6, 1], [6, 2], [6, 4], [6, 5], [8, 1], [8, 2], [8, 4], [8, 5]], '3': [[0, 3], [0, 4], [0, 7], [0, 8], [1, 3], [1, 4], [1, 7], [1, 8], [3, 0], [3, 1], [3, 7], [3, 8], [4, 0], [4, 1], [4, 7], [4, 8], [6, 0], [6, 1], [6, 3], [6, 4], [7, 0], [7, 1], [7, 3], [7, 4]], '4': [[1, 4], [1, 5], [1, 7], [1, 8], [2, 4], [2, 5], [2, 7], [2, 8], [3, 0], [3, 2], [3, 7], [3, 8], [5, 0], [5, 2], [5, 7], [5, 8], [7, 0], [7, 2], [7, 4], [7, 5], [8, 0], [8, 2], [8, 4], [8, 5]], '5': [[1, 3], [1, 4], [1, 6], [1, 7], [2, 3], [2, 4], [2, 6], [2, 7], [4, 0], [4, 1], [4, 6], [4, 7], [5, 0], [5, 1], [5, 6], [5, 7], [6, 0], [6, 1], [6, 3], [6, 4], [7, 0], [7, 1], [7, 3], [7, 4]], '6': [[0, 4], [0, 5], [0, 6], [0, 8], [2, 4], [2, 5], [2, 6], [2, 8], [4, 0], [4, 2], [4, 6], [4, 8], [5, 0], [5, 2], [5, 6], [5, 8], [7, 0], [7, 2], [7, 4], [7, 5], [8, 0], [8, 2], [8, 4], [8, 5]], '7': [[0, 3], [0, 5], [0, 6], [0, 7], [1, 3], [1, 5], [1, 6], [1, 7], [3, 1], [3, 2], [3, 6], [3, 7], [4, 1], [4, 2], [4, 6], [4, 7], [7, 1], [7, 2], [7, 3], [7, 5], [8, 1], [8, 2], [8, 3], [8, 5]], '8': [[0, 3], [0, 4], [0, 6], [0, 8], [1, 3], [1, 4], [1, 6], [1, 8], [3, 0], [3, 2], [3, 6], [3, 8], [5, 0], [5, 2], [5, 6], [5, 8], [6, 0], [6, 2], [6, 3], [6, 4], [8, 0], [8, 2], [8, 3], [8, 4]], '9': [[0, 3], [0, 5], [0, 6], [0, 7], [2, 3], [2, 5], [2, 6], [2, 7], [3, 1], [3, 2], [3, 6], [3, 7], [5, 1], [5, 2], [5, 6], [5, 7], [6, 1], [6, 2], [6, 3], [6, 5], [8, 1], [8, 2], [8, 3], [8, 5]]}\n",
            "{'1': [], '2': [[1, 4], [1, 5], [1, 7], [1, 8], [2, 4], [2, 7], [3, 1], [3, 2], [3, 7], [3, 8], [4, 2], [4, 7], [6, 2], [6, 4], [8, 1], [8, 2], [8, 4], [8, 5]], '3': [[0, 4], [0, 7], [1, 3], [1, 4], [1, 7], [1, 8], [3, 0], [3, 1], [3, 7], [3, 8], [4, 7], [6, 4], [7, 4]], '4': [[1, 4], [1, 5], [1, 7], [1, 8], [2, 4], [2, 7], [3, 0], [3, 2], [3, 7], [3, 8], [5, 2], [5, 7], [7, 2], [7, 4], [8, 0], [8, 2], [8, 4], [8, 5]], '5': [[1, 3], [1, 4], [1, 6], [1, 7], [2, 4], [2, 7], [4, 7], [5, 7], [6, 4], [7, 4]], '6': [[0, 4], [2, 4], [4, 2], [5, 2], [7, 2], [7, 4], [8, 0], [8, 2], [8, 4], [8, 5]], '7': [[0, 7], [1, 3], [1, 5], [1, 6], [1, 7], [3, 1], [3, 2], [3, 6], [3, 7], [4, 2], [4, 7], [7, 2], [8, 1], [8, 2], [8, 3], [8, 5]], '8': [[0, 4], [1, 3], [1, 4], [1, 6], [1, 8], [3, 0], [3, 2], [3, 6], [3, 8], [5, 2], [6, 2], [6, 4], [8, 0], [8, 2], [8, 3], [8, 4]], '9': [[0, 7], [2, 7], [3, 1], [3, 2], [3, 6], [3, 7], [5, 2], [5, 7], [6, 2], [8, 1], [8, 2], [8, 3], [8, 5]]}\n",
            "{'1': [], '2': [], '3': [[0, 4], [0, 7], [1, 3], [3, 0], [7, 4]], '4': [[3, 0], [5, 2], [5, 7], [7, 2], [7, 4], [8, 0]], '5': [[1, 3], [1, 6], [5, 7], [7, 4]], '6': [[0, 4], [5, 2], [7, 2], [7, 4], [8, 0]], '7': [[0, 7], [1, 3], [1, 6], [3, 6], [7, 2], [8, 3]], '8': [[0, 4], [1, 3], [1, 6], [3, 0], [3, 6], [5, 2], [8, 0], [8, 3]], '9': [[0, 7], [3, 6], [5, 2], [5, 7], [8, 3]]}\n",
            "{'1': [], '2': [], '3': [], '4': [[5, 2], [5, 7], [7, 2], [8, 0]], '5': [[1, 6], [5, 7]], '6': [[5, 2], [7, 2], [8, 0]], '7': [[1, 6], [3, 6], [7, 2], [8, 3]], '8': [[1, 6], [3, 6], [5, 2], [8, 0], [8, 3]], '9': [[3, 6], [5, 2], [5, 7], [8, 3]]}\n",
            "{'1': [], '2': [], '3': [], '4': [], '5': [[1, 6]], '6': [], '7': [[1, 6], [3, 6], [8, 3]], '8': [[1, 6], [3, 6], [8, 3]], '9': [[3, 6], [8, 3]]}\n",
            "{'1': [], '2': [], '3': [], '4': [], '5': [], '6': [], '7': [[3, 6], [8, 3]], '8': [[3, 6], [8, 3]], '9': [[3, 6], [8, 3]]}\n",
            "{'1': [], '2': [], '3': [], '4': [], '5': [], '6': [], '7': [[3, 6], [8, 3]], '8': [[3, 6], [8, 3]], '9': [[3, 6], [8, 3]]}\n",
            "{'1': [], '2': [], '3': [], '4': [], '5': [], '6': [], '7': [], '8': [], '9': []}\n",
            "{'1': [], '2': [], '3': [], '4': [], '5': [], '6': [], '7': [], '8': [], '9': []}\n",
            "[[2 4 5 1 3 1 1 3 1]\n",
            " [9 6 1 3 2 2 5 2 2]\n",
            " [7 8 3 1 2 1 1 2 1]\n",
            " [3 2 2 6 1 5 7 2 2]\n",
            " [1 1 2 4 9 8 1 2 1]\n",
            " [1 1 4 2 7 3 1 4 1]\n",
            " [1 1 2 1 2 1 4 6 7]\n",
            " [1 1 4 1 3 1 2 8 9]\n",
            " [4 2 2 7 2 2 3 1 5]]\n"
          ]
        }
      ],
      "source": [
        "csp_Solver(grid)"
      ]
    },
    {
      "cell_type": "code",
      "execution_count": null,
      "id": "538c1c76",
      "metadata": {
        "id": "538c1c76"
      },
      "outputs": [],
      "source": [
        "def empty_Slot(grid,row,column):\n",
        "    if grid[row][column]==0:\n",
        "        return 1\n",
        "    else :\n",
        "        return 0"
      ]
    },
    {
      "cell_type": "code",
      "execution_count": null,
      "id": "f1bbb863",
      "metadata": {
        "id": "f1bbb863"
      },
      "outputs": [],
      "source": [
        "def check_possible_Values(x,y,z):\n",
        "    possible=intersection(x,y)\n",
        "    possible=intersection(possible,z)\n",
        "    return possible"
      ]
    },
    {
      "cell_type": "code",
      "execution_count": null,
      "id": "d9918084",
      "metadata": {
        "id": "d9918084"
      },
      "outputs": [],
      "source": [
        "def row_constraints(grid,row):\n",
        "    values=[1,2,3,4,5,6,7,8,9]\n",
        "    for i in range(9):\n",
        "        if grid[row][i] in values:\n",
        "            values.remove(grid[row][i])\n",
        "\n",
        "    return values"
      ]
    },
    {
      "cell_type": "code",
      "execution_count": null,
      "id": "b7977c6d",
      "metadata": {
        "id": "b7977c6d"
      },
      "outputs": [],
      "source": [
        "def column_constraints(grid,col):\n",
        "    values=[1,2,3,4,5,6,7,8,9]\n",
        "    for i in range(9):\n",
        "        if grid[i][col] in values:\n",
        "            values.remove(grid[i][col])\n",
        "\n",
        "    return values"
      ]
    },
    {
      "cell_type": "code",
      "execution_count": null,
      "id": "775adfd4",
      "metadata": {
        "id": "775adfd4"
      },
      "outputs": [],
      "source": [
        "def grid_constraints(grid,row,col):\n",
        "    values=[1,2,3,4,5,6,7,8,9]\n",
        "    subgrid=((row//3)*3)+(col//3)\n",
        "    for i in range(subgrid//3*3,subgrid//3*3+3):\n",
        "        for j in range ((subgrid%3)*3,(subgrid%3)*3+3):\n",
        "            if grid[i][j] in values:\n",
        "                values.remove(grid[i][j])\n",
        "    return values\n"
      ]
    },
    {
      "cell_type": "code",
      "execution_count": null,
      "id": "8fd76638",
      "metadata": {
        "id": "8fd76638"
      },
      "outputs": [],
      "source": [
        "def value_assignment(grid,row,col):\n",
        "    x=row_constraints(grid,row)\n",
        "    y=column_constraints(grid,col)\n",
        "    z=grid_constraints(grid,row,col)"
      ]
    },
    {
      "cell_type": "code",
      "execution_count": null,
      "id": "ea251786",
      "metadata": {
        "id": "ea251786"
      },
      "outputs": [],
      "source": [
        "def intersection(lst1, lst2):\n",
        "    lst3 = [value for value in lst1 if value in lst2]\n",
        "    return lst3\n"
      ]
    },
    {
      "cell_type": "code",
      "execution_count": null,
      "id": "817b205f",
      "metadata": {
        "id": "817b205f"
      },
      "outputs": [],
      "source": []
    },
    {
      "cell_type": "code",
      "execution_count": null,
      "id": "6e5ccf9c",
      "metadata": {
        "id": "6e5ccf9c"
      },
      "outputs": [],
      "source": []
    },
    {
      "cell_type": "code",
      "execution_count": null,
      "id": "e04e38b0",
      "metadata": {
        "id": "e04e38b0"
      },
      "outputs": [],
      "source": []
    }
  ],
  "metadata": {
    "kernelspec": {
      "display_name": "Python 3 (ipykernel)",
      "language": "python",
      "name": "python3"
    },
    "language_info": {
      "codemirror_mode": {
        "name": "ipython",
        "version": 3
      },
      "file_extension": ".py",
      "mimetype": "text/x-python",
      "name": "python",
      "nbconvert_exporter": "python",
      "pygments_lexer": "ipython3",
      "version": "3.10.7"
    },
    "colab": {
      "provenance": []
    }
  },
  "nbformat": 4,
  "nbformat_minor": 5
}